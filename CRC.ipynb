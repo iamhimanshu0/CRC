{
  "nbformat": 4,
  "nbformat_minor": 0,
  "metadata": {
    "colab": {
      "name": "CRC.ipynb",
      "provenance": [],
      "collapsed_sections": []
    },
    "kernelspec": {
      "name": "python3",
      "display_name": "Python 3"
    },
    "language_info": {
      "name": "python"
    }
  },
  "cells": [
    {
      "cell_type": "code",
      "source": [
        "def xor(a,b):\n",
        "  result = []\n",
        "  for i in range(1,len(b)):\n",
        "    if a[i] == b[i]:\n",
        "      result.append('0')\n",
        "    else:\n",
        "      result.append('1')\n",
        "  return  ''.join(result)"
      ],
      "metadata": {
        "id": "EQw1sOuY-H13"
      },
      "execution_count": null,
      "outputs": []
    },
    {
      "cell_type": "code",
      "source": [
        "def crc(message, key):\n",
        "  pick = len(key)\n",
        "  tmp = message[:pick]\n",
        "  while pick < len(message):\n",
        "    if tmp[0] == '1':\n",
        "      tmp = xor(key,tmp)+message[pick]\n",
        "    else:\n",
        "      tmp = xor('0'*pick,tmp) + message[pick]\n",
        "    pick+=1\n",
        "  if tmp[0] == \"1\":\n",
        "    tmp = xor(key,tmp)\n",
        "  else:\n",
        "    tmp = xor('0'*pick,tmp)\n",
        "  checkword = tmp\n",
        "  return checkword"
      ],
      "metadata": {
        "id": "QvzaRaPV-Lnp"
      },
      "execution_count": null,
      "outputs": []
    },
    {
      "cell_type": "code",
      "source": [
        "def encodedData(data,key):\n",
        "  l_key = len(key)\n",
        "  append_data = data + '0'*(l_key-1)\n",
        "  remainder = crc(append_data,key)\n",
        "  codeword = data+remainder\n",
        "  print(\"Remainder: \" ,remainder)\n",
        "  print(\"Data: \" ,codeword)\n",
        "  return codeword"
      ],
      "metadata": {
        "id": "fp80RgxN-VFa"
      },
      "execution_count": null,
      "outputs": []
    },
    {
      "cell_type": "code",
      "source": [
        "def reciverSide(data,key):\n",
        "  r = crc(data,key)\n",
        "  size = len(key)\n",
        "  print(r)\n",
        "  if r == (size-1)*'0':\n",
        "    print(\"No Error\")\n",
        "  else: \n",
        "    print(\"Error\")"
      ],
      "metadata": {
        "id": "pwXdLsRr-aCh"
      },
      "execution_count": null,
      "outputs": []
    },
    {
      "cell_type": "code",
      "source": [
        "data = '1010011110'   # Hex to Bin\n",
        "key = '1011'          # CRC\n",
        "cdw = encodedData(data,key)\n",
        "print('---------------')\n",
        "reciverSide(cdw,key)\n",
        "print('---------------')\n",
        "print(cdw)"
      ],
      "metadata": {
        "colab": {
          "base_uri": "https://localhost:8080/"
        },
        "id": "dBOjHYmu-cZG",
        "outputId": "692cc98c-22a5-4751-950e-ac649c59e2ee"
      },
      "execution_count": null,
      "outputs": [
        {
          "output_type": "stream",
          "name": "stdout",
          "text": [
            "Remainder:  001\n",
            "Data:  1010011110001\n",
            "---------------\n",
            "000\n",
            "No Error\n",
            "---------------\n",
            "1010011110001\n"
          ]
        }
      ]
    },
    {
      "cell_type": "code",
      "source": [
        "bin(0x18)"
      ],
      "metadata": {
        "colab": {
          "base_uri": "https://localhost:8080/",
          "height": 36
        },
        "id": "doiDBiEq_pDK",
        "outputId": "b02fd9d9-a849-46e4-f0b1-9aea30bbba99"
      },
      "execution_count": null,
      "outputs": [
        {
          "output_type": "execute_result",
          "data": {
            "text/plain": [
              "'0b11000'"
            ],
            "application/vnd.google.colaboratory.intrinsic+json": {
              "type": "string"
            }
          },
          "metadata": {},
          "execution_count": 30
        }
      ]
    }
  ]
}